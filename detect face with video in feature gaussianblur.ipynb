{
 "cells": [
  {
   "cell_type": "code",
   "execution_count": null,
   "id": "031bec0c",
   "metadata": {},
   "outputs": [],
   "source": [
    "import cv2\n",
    "faceCascade=cv2.CascadeClassifier(r'D:\\haarcascade_frontalface_default.xml')\n",
    "cap = cv2.VideoCapture('E:\\video (2160p).mp4')\n",
    "while True:\n",
    "    \n",
    "    _,img=cap.read()\n",
    "    imggray = cv2.cvtColor(img, cv2.COLOR_BGR2RGB)\n",
    "    faces=faceCascade.detectMultiScale(imggray,1.1,4)\n",
    "    for x, y, w, h in faces:\n",
    "        img[y:y+h,x:x+w] = cv2.GaussianBlur(img[y:y+h,x:x+w],(15,15),cv2.BORDER_DEFAULT)\n",
    "        \n",
    "        print(len(faces))\n",
    "        cv2.imshow(\"img\", img)\n",
    "        key=cv2.waitKey(1)\n",
    "        if key==ord('q'):\n",
    "            \n",
    "            break\n",
    "        \n",
    "cap.release()\n",
    "cv2.destroyAllWindows()"
   ]
  },
  {
   "cell_type": "code",
   "execution_count": null,
   "id": "348e4801",
   "metadata": {},
   "outputs": [],
   "source": []
  }
 ],
 "metadata": {
  "kernelspec": {
   "display_name": "Python 3 (ipykernel)",
   "language": "python",
   "name": "python3"
  },
  "language_info": {
   "codemirror_mode": {
    "name": "ipython",
    "version": 3
   },
   "file_extension": ".py",
   "mimetype": "text/x-python",
   "name": "python",
   "nbconvert_exporter": "python",
   "pygments_lexer": "ipython3",
   "version": "3.11.4"
  }
 },
 "nbformat": 4,
 "nbformat_minor": 5
}
